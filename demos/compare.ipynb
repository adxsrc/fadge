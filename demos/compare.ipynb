{
 "cells": [
  {
   "cell_type": "markdown",
   "id": "ff812dc4-968a-49d6-b788-b285c4b666fa",
   "metadata": {},
   "source": [
    "# Flat Geodesic Integration with Different Coordinates"
   ]
  },
  {
   "cell_type": "markdown",
   "id": "489e6fb2-e78b-4736-9d79-16e1dda0c5c2",
   "metadata": {},
   "source": [
    "First, we import the necessary modules."
   ]
  },
  {
   "cell_type": "code",
   "execution_count": 1,
   "id": "6f8dd330-0e12-47be-bff5-6ffd22758978",
   "metadata": {},
   "outputs": [],
   "source": [
    "%load_ext autoreload\n",
    "%autoreload 2\n",
    "\n",
    "from jax.config import config\n",
    "config.update(\"jax_enable_x64\", True)\n",
    "\n",
    "from jax import numpy as np\n",
    "\n",
    "from fadge.metric.Euclidean import Cartesian\n",
    "from fadge.geode            import Geode\n",
    "\n",
    "from matplotlib import pyplot as plt"
   ]
  },
  {
   "cell_type": "markdown",
   "id": "ec5fb080-b75d-4e8c-9c38-b4c2e141f28a",
   "metadata": {},
   "source": [
    "Define the 2-dimensional Cartesian metric and initial position and velocity.\n",
    "Check the metric at the initial position."
   ]
  },
  {
   "cell_type": "code",
   "execution_count": 2,
   "id": "33302227-caea-4d35-977b-432591e6bc13",
   "metadata": {},
   "outputs": [
    {
     "data": {
      "text/plain": [
       "DeviceArray([[1., 0.],\n",
       "             [0., 1.]], dtype=float64)"
      ]
     },
     "execution_count": 2,
     "metadata": {},
     "output_type": "execute_result"
    }
   ],
   "source": [
    "gC = Cartesian(ndim=2)\n",
    "\n",
    "x0C = np.array([ 1,1])\n",
    "v0C = np.array([-1,1])\n",
    "\n",
    "gC(x0C)"
   ]
  },
  {
   "cell_type": "markdown",
   "id": "60b896b2-6c28-48b6-a08f-34a49d75b8f1",
   "metadata": {},
   "source": [
    "Define the metric for the 2-dimensional polar coordinate and initial position and velocity.\n",
    "Check the metric at the initial position."
   ]
  },
  {
   "cell_type": "code",
   "execution_count": 3,
   "id": "121c698f-dd2f-4538-9d66-40998e71f3c6",
   "metadata": {},
   "outputs": [
    {
     "data": {
      "text/plain": [
       "DeviceArray([[1., 0.],\n",
       "             [0., 2.]], dtype=float64)"
      ]
     },
     "execution_count": 3,
     "metadata": {},
     "output_type": "execute_result"
    }
   ],
   "source": [
    "def gp(x):\n",
    "    r  = x[0]\n",
    "    th = x[1]\n",
    "    return np.array([[1,0], [0,r*r]])\n",
    "\n",
    "x0p = np.array([np.sqrt(2), np.pi/4])\n",
    "v0p = np.array([0, 1])\n",
    "\n",
    "gp(x0p)"
   ]
  },
  {
   "cell_type": "markdown",
   "id": "3c07f101-eea2-4136-8e5b-3652d28a40e2",
   "metadata": {},
   "source": [
    "Define an array of \"affine\" parameter.\n",
    "Sample the geodesics in both coordiantes along with  affine parameters."
   ]
  },
  {
   "cell_type": "code",
   "execution_count": 4,
   "id": "dccc6f50-c3dc-4f10-aa2d-917b925be933",
   "metadata": {},
   "outputs": [
    {
     "name": "stdout",
     "output_type": "stream",
     "text": [
      "jit(do); input: Traced<ShapedArray(float32[])>with<DynamicJaxprTrace(level=0/1)> Traced<ShapedArray(float32[2,2])>with<DynamicJaxprTrace(level=0/1)> Traced<ShapedArray(float32[])>with<DynamicJaxprTrace(level=0/1)> [Traced<ShapedArray(float64[2,2])>with<DynamicJaxprTrace(level=0/1)>, Traced<ShapedArray(float64[2,2])>with<DynamicJaxprTrace(level=0/1)>, Traced<ShapedArray(float64[2,2])>with<DynamicJaxprTrace(level=0/1)>, Traced<ShapedArray(float64[2,2])>with<DynamicJaxprTrace(level=0/1)>, Traced<ShapedArray(float64[2,2])>with<DynamicJaxprTrace(level=0/1)>, Traced<ShapedArray(float64[2,2])>with<DynamicJaxprTrace(level=0/1)>, Traced<ShapedArray(float64[2,2])>with<DynamicJaxprTrace(level=0/1)>]\n",
      "jit(do); input: Traced<ShapedArray(float32[])>with<DynamicJaxprTrace(level=0/1)> Traced<ShapedArray(float64[2,2])>with<DynamicJaxprTrace(level=0/1)> Traced<ShapedArray(float32[])>with<DynamicJaxprTrace(level=0/1)> [Traced<ShapedArray(float64[2,2])>with<DynamicJaxprTrace(level=0/1)>, Traced<ShapedArray(float64[2,2])>with<DynamicJaxprTrace(level=0/1)>, Traced<ShapedArray(float64[2,2])>with<DynamicJaxprTrace(level=0/1)>, Traced<ShapedArray(float64[2,2])>with<DynamicJaxprTrace(level=0/1)>, Traced<ShapedArray(float64[2,2])>with<DynamicJaxprTrace(level=0/1)>, Traced<ShapedArray(float64[2,2])>with<DynamicJaxprTrace(level=0/1)>, Traced<ShapedArray(float64[2,2])>with<DynamicJaxprTrace(level=0/1)>]\n",
      "jit(do); input: Traced<ShapedArray(float32[])>with<DynamicJaxprTrace(level=0/1)> Traced<ShapedArray(float32[2,2])>with<DynamicJaxprTrace(level=0/1)> Traced<ShapedArray(float32[])>with<DynamicJaxprTrace(level=0/1)> [Traced<ShapedArray(float32[2,2])>with<DynamicJaxprTrace(level=0/1)>, Traced<ShapedArray(float32[2,2])>with<DynamicJaxprTrace(level=0/1)>, Traced<ShapedArray(float32[2,2])>with<DynamicJaxprTrace(level=0/1)>, Traced<ShapedArray(float32[2,2])>with<DynamicJaxprTrace(level=0/1)>, Traced<ShapedArray(float32[2,2])>with<DynamicJaxprTrace(level=0/1)>, Traced<ShapedArray(float32[2,2])>with<DynamicJaxprTrace(level=0/1)>, Traced<ShapedArray(float32[2,2])>with<DynamicJaxprTrace(level=0/1)>]\n"
     ]
    }
   ],
   "source": [
    "l = np.linspace(0,10)\n",
    "\n",
    "geodeC = Geode(gC, 0, np.array([x0C, v0C]), eqax=[0,1], atol=1e-9, rtol=0)\n",
    "ns = geodeC(l)\n",
    "xC = ns[:,0,:]\n",
    "vC = ns[:,1,:]\n",
    "\n",
    "geodep = Geode(gp, 0, np.array([x0p, v0p]), eqax=[0,1], atol=1e-9, rtol=0)\n",
    "ns = geodep(l)\n",
    "xp = ns[:,0,:]\n",
    "vp = ns[:,1,:]"
   ]
  },
  {
   "cell_type": "markdown",
   "id": "9531ecde-cdd6-4531-af93-2847359b66d9",
   "metadata": {},
   "source": [
    "The geodesics in Cartesian coordinates is trivial.\n",
    "However, the geodesics in polar coordinates has an interesting form."
   ]
  },
  {
   "cell_type": "code",
   "execution_count": 5,
   "id": "e9b61a86-f228-489d-9e70-7a9feca25092",
   "metadata": {},
   "outputs": [
    {
     "data": {
      "image/png": "[encoded data removed]",
      "text/plain": [
       "<Figure size 640x480 with 1 Axes>"
      ]
     },
     "metadata": {},
     "output_type": "display_data"
    }
   ],
   "source": [
    "plt.plot(xC[:,0], xC[:,1])\n",
    "plt.plot(xp[:,0], xp[:,1])\n",
    "plt.gca().set_aspect('equal')"
   ]
  },
  {
   "cell_type": "markdown",
   "id": "14cba0ce-304f-4ee3-a2a9-8e4d405f6eaf",
   "metadata": {},
   "source": [
    "If we apply the proper coordinate transform for the polar coordiantes, then it is clear that the two solutions are identical."
   ]
  },
  {
   "cell_type": "code",
   "execution_count": 6,
   "id": "6b4dbfee-fd36-408f-91c2-10ab5a737298",
   "metadata": {},
   "outputs": [
    {
     "data": {
      "image/png": "[encoded data removed]",
      "text/plain": [
       "<Figure size 640x480 with 1 Axes>"
      ]
     },
     "metadata": {},
     "output_type": "display_data"
    }
   ],
   "source": [
    "plt.plot(xC[:,0], xC[:,1], linewidth=4)\n",
    "\n",
    "plt.plot(xp[:,0] * np.cos(xp[:,1]),\n",
    "         xp[:,0] * np.sin(xp[:,1]), '--', linewidth=2)\n",
    "\n",
    "plt.gca().set_aspect('equal')"
   ]
  },
  {
   "cell_type": "markdown",
   "id": "503c8027-b197-4dc9-a8ce-4cb7b3cb3cf5",
   "metadata": {},
   "source": [
    "Print the absolute errors between the two coordinate systems."
   ]
  },
  {
   "cell_type": "code",
   "execution_count": 7,
   "id": "4c2f2e48-117e-4236-84fb-31e06f87abe2",
   "metadata": {},
   "outputs": [
    {
     "name": "stdout",
     "output_type": "stream",
     "text": [
      "7.269483036864699e-06 4.082119460235845e-06\n"
     ]
    }
   ],
   "source": [
    "xerr = max(abs(xC[:,0] - xp[:,0] * np.cos(xp[:,1])))\n",
    "yerr = max(abs(xC[:,1] - xp[:,0] * np.sin(xp[:,1])))\n",
    "\n",
    "print(xerr, yerr)"
   ]
  }
 ],
 "metadata": {
  "kernelspec": {
   "display_name": "Python 3 (ipykernel)",
   "language": "python",
   "name": "python3"
  },
  "language_info": {
   "codemirror_mode": {
    "name": "ipython",
    "version": 3
   },
   "file_extension": ".py",
   "mimetype": "text/x-python",
   "name": "python",
   "nbconvert_exporter": "python",
   "pygments_lexer": "ipython3",
   "version": "3.11.8"
  }
 },
 "nbformat": 4,
 "nbformat_minor": 5
}
