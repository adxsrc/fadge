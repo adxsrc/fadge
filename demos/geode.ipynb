{
 "cells": [
  {
   "cell_type": "markdown",
   "id": "093a9527-ac48-4842-b277-350ae0105ca2",
   "metadata": {},
   "source": [
    "# Geodesic Example"
   ]
  },
  {
   "cell_type": "markdown",
   "id": "aa4f5ec2-4df5-4817-99da-2ce64c5cf7cd",
   "metadata": {},
   "source": [
    "First, we import the necessary modules."
   ]
  },
  {
   "cell_type": "code",
   "execution_count": null,
   "id": "2ab6595f-c10e-4168-826a-25e6fae96f59",
   "metadata": {},
   "outputs": [],
   "source": [
    "%load_ext autoreload\n",
    "%autoreload 2\n",
    "\n",
    "from fadge.metric import KerrSchild\n",
    "from fadge.geode  import Geode\n",
    "from fadge.utils  import Nullify\n",
    "\n",
    "from jax          import numpy as np\n",
    "from matplotlib   import pyplot as plt"
   ]
  },
  {
   "cell_type": "markdown",
   "id": "cb1916ad-90f6-4821-b12a-34b04949fece",
   "metadata": {},
   "source": [
    "We then create the `metric` and `nullify` functions, and the initial condition of a null geodesic."
   ]
  },
  {
   "cell_type": "code",
   "execution_count": null,
   "id": "8bff596a-788f-43bc-a5d9-750b6d6d7d1c",
   "metadata": {},
   "outputs": [],
   "source": [
    "metric  = KerrSchild(0.999)\n",
    "nullify = Nullify(metric)\n",
    "\n",
    "x = np.array([0,100,0,4.8])\n",
    "v = nullify(x, np.array([1,1,0,0]))\n",
    "s = np.concatenate([x, v])"
   ]
  },
  {
   "cell_type": "markdown",
   "id": "7d88384f-168a-4c98-9c18-b6c37540c722",
   "metadata": {},
   "source": [
    "Using these, we can create a geodesic precomputed from $\\lambda = 0$ to $-200$."
   ]
  },
  {
   "cell_type": "code",
   "execution_count": null,
   "id": "8efc038c-1222-4d39-9a59-445fe99d0284",
   "metadata": {},
   "outputs": [],
   "source": [
    "geode = Geode(metric, 0, s, L=-200, full=True)"
   ]
  },
  {
   "cell_type": "markdown",
   "id": "e6c40020-4f96-406a-911c-4dc425814119",
   "metadata": {},
   "source": [
    "We then pull the full DP5 step states, as well as creating interpolated data points."
   ]
  },
  {
   "cell_type": "code",
   "execution_count": null,
   "id": "30238dc4-e383-4ef3-b1b8-05954c7b120b",
   "metadata": {},
   "outputs": [],
   "source": [
    "l = np.linspace(0,-200,2001)\n",
    "f = geode.states\n",
    "i = geode(l)"
   ]
  },
  {
   "cell_type": "markdown",
   "id": "fa2c6bef-1992-43aa-8f42-80d1ddba2e81",
   "metadata": {},
   "source": [
    "Here's the result from the full domain.  Note that, thanks to adaptive time stepping, the step size far away from the black hole is large."
   ]
  },
  {
   "cell_type": "code",
   "execution_count": null,
   "id": "2c2cf72e-0d0b-4a87-809b-e19d3352ccae",
   "metadata": {},
   "outputs": [],
   "source": [
    "plt.scatter(f[:,1], f[:,3])\n",
    "plt.scatter(i[:,1], i[:,3], s=1)"
   ]
  },
  {
   "cell_type": "markdown",
   "id": "201cc3a3-8596-42d0-807b-5d6ec6c5828f",
   "metadata": {},
   "source": [
    "Zoomed-in"
   ]
  },
  {
   "cell_type": "code",
   "execution_count": null,
   "id": "d8645b8d-5c79-492e-98ca-1b35f2a01cdc",
   "metadata": {},
   "outputs": [],
   "source": [
    "plt.scatter(f[:,1], f[:,3])\n",
    "plt.scatter(i[:,1], i[:,3], s=1)\n",
    "plt.xlim(-5,5)\n",
    "plt.ylim(-5,5)"
   ]
  },
  {
   "cell_type": "code",
   "execution_count": null,
   "id": "f7e73a1a-7a0e-47b2-942f-5d14d5b5873f",
   "metadata": {},
   "outputs": [],
   "source": []
  }
 ],
 "metadata": {
  "kernelspec": {
   "display_name": "Python 3 (ipykernel)",
   "language": "python",
   "name": "python3"
  },
  "language_info": {
   "codemirror_mode": {
    "name": "ipython",
    "version": 3
   },
   "file_extension": ".py",
   "mimetype": "text/x-python",
   "name": "python",
   "nbconvert_exporter": "python",
   "pygments_lexer": "ipython3",
   "version": "3.9.9"
  }
 },
 "nbformat": 4,
 "nbformat_minor": 5
}
