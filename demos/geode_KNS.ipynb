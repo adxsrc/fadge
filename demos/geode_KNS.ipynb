{
 "cells": [
  {
   "cell_type": "markdown",
   "id": "39b6a72a-716f-4f7d-8a00-fd4fe2928b5b",
   "metadata": {},
   "source": [
    "# Geodesic Demo"
   ]
  },
  {
   "cell_type": "markdown",
   "id": "7be25374-5f7f-4225-a43f-6658655d6167",
   "metadata": {},
   "source": [
    "First, we import the necessary modules."
   ]
  },
  {
   "cell_type": "code",
   "execution_count": 1,
   "id": "b80cc2d3-daba-4376-863a-2273a38dea34",
   "metadata": {},
   "outputs": [],
   "source": [
    "%load_ext autoreload\n",
    "%autoreload 2\n",
    "\n",
    "from jax.config import config\n",
    "config.update(\"jax_enable_x64\", True)\n",
    "\n",
    "from fadge import GRRT\n",
    "from jax   import numpy as np\n",
    "\n",
    "from matplotlib import pyplot as plt\n",
    "from itertools  import product"
   ]
  },
  {
   "cell_type": "markdown",
   "id": "12dcc3ed-4ae1-44f1-bb8b-7382fc2a786f",
   "metadata": {},
   "source": [
    "We then instasize `PRay` into an object"
   ]
  },
  {
   "cell_type": "code",
   "execution_count": 2,
   "id": "97a7cacb-bb09-4978-abaf-f6ba73e80b0e",
   "metadata": {},
   "outputs": [
    {
     "name": "stdout",
     "output_type": "stream",
     "text": [
      "There is no event horizon\n"
     ]
    }
   ],
   "source": [
    "grrt = GRRT(\n",
    "    aspin=1.41421356, ind='time',\n",
    "    eps=-1e-3, atol=1e-6, rtol=0, hmin=0,\n",
    "    names={'ind':'t'},\n",
    "    dtype=np.float64,\n",
    ")\n",
    "\n",
    "grrt.set_cam(1e4, 60, 0)\n",
    "#grrt.set_image(4, 64, alpha0=2, beta0=2)\n",
    "grrt.set_image(16, 128)"
   ]
  },
  {
   "cell_type": "markdown",
   "id": "0e24ed43-3764-4e36-8ba5-73d8d131d377",
   "metadata": {},
   "source": [
    "To setup the initial conditions, we first set the camera location, and then specify the image."
   ]
  },
  {
   "cell_type": "markdown",
   "id": "cfa6db93-6f7f-4606-b4bf-33f38e890525",
   "metadata": {},
   "source": [
    "To performm geodesic integration, simply call `pray.geode()`.\n",
    "When no argument is specified, the integration is carried out to `-2 * r_obs`.\n",
    "The return values are the full steps during the integration."
   ]
  },
  {
   "cell_type": "code",
   "execution_count": null,
   "id": "4f9a9144-735d-425e-bbe6-6b007527ce4f",
   "metadata": {},
   "outputs": [
    {
     "name": "stdout",
     "output_type": "stream",
     "text": [
      "jit(masked_do); input: Traced<ShapedArray(float64[])>with<DynamicJaxprTrace(level=0/1)> Traced<ShapedArray(float64[2,4,128,128])>with<DynamicJaxprTrace(level=0/1)> Traced<ShapedArray(float64[])>with<DynamicJaxprTrace(level=0/1)> [Traced<ShapedArray(float64[2,4,128,128])>with<DynamicJaxprTrace(level=0/1)>, Traced<ShapedArray(float64[2,4,128,128])>with<DynamicJaxprTrace(level=0/1)>, Traced<ShapedArray(float64[2,4,128,128])>with<DynamicJaxprTrace(level=0/1)>, Traced<ShapedArray(float64[2,4,128,128])>with<DynamicJaxprTrace(level=0/1)>, Traced<ShapedArray(float64[2,4,128,128])>with<DynamicJaxprTrace(level=0/1)>, Traced<ShapedArray(float64[2,4,128,128])>with<DynamicJaxprTrace(level=0/1)>, Traced<ShapedArray(float64[2,4,128,128])>with<DynamicJaxprTrace(level=0/1)>]\n"
     ]
    },
    {
     "name": "stderr",
     "output_type": "stream",
     "text": [
      " 50%|███████████████████████████████▌                               | 50/100 [01:16<00:47,  1.05it/s, t=-1.00e+04, dt=-0.000659]"
     ]
    }
   ],
   "source": [
    "l, f = grrt.geode() # full step output\n",
    "\n",
    "i,j = 0,slice(None)\n",
    "\n",
    "ft = f[:,0,0,i,j]\n",
    "fx = f[:,0,1,i,j]\n",
    "fy = f[:,0,2,i,j]\n",
    "fz = f[:,0,3,i,j]"
   ]
  },
  {
   "cell_type": "markdown",
   "id": "1160ac33-6a65-4b98-9d46-6fdfc5229ac8",
   "metadata": {},
   "source": [
    "Because `PRay` uses `XAJ` for solving ODEs, it supports dense output.\n",
    "We can put a lot of sampling points near the black hole for better visualization of the geodeiscs."
   ]
  },
  {
   "cell_type": "markdown",
   "id": "2a21e935-d5e5-4cd8-b471-a70401f7aab0",
   "metadata": {},
   "source": [
    "We are finally ready to plot the results."
   ]
  },
  {
   "cell_type": "code",
   "execution_count": null,
   "id": "6fe8d65c-b24b-4a0a-a4b3-6a1ccc06d8ec",
   "metadata": {},
   "outputs": [],
   "source": [
    "fig, axes = plt.subplots(2,2, figsize=(12,12))#, sharey=True)\n",
    "\n",
    "lim = 10\n",
    "\n",
    "axes[0][0].plot(fx, fz)\n",
    "axes[0][1].plot(fy, fz)\n",
    "axes[1][0].plot(fx, fy)\n",
    "axes[1][1].plot(ft, fy)\n",
    "\n",
    "#fig.tight_layout()\n",
    "\n",
    "ax = axes[0][0]\n",
    "ax.set_xlabel('x')\n",
    "ax.set_ylabel('z')\n",
    "ax.set_xlim(-lim,lim)\n",
    "ax.set_ylim(-lim,lim)\n",
    "ax.set_aspect('equal')\n",
    "\n",
    "ax = axes[0][1]\n",
    "ax.set_xlabel('y')\n",
    "ax.set_ylabel('z')\n",
    "ax.set_xlim(-lim,lim)\n",
    "ax.set_ylim(-lim,lim)\n",
    "ax.set_aspect('equal')\n",
    "\n",
    "ax = axes[1][0]\n",
    "ax.set_xlabel('x')\n",
    "ax.set_ylabel('y')\n",
    "ax.set_xlim(-lim,lim)\n",
    "ax.set_ylim(-lim,lim)\n",
    "ax.set_aspect('equal')\n",
    "\n",
    "ax = axes[1][1]\n",
    "ax.set_xlabel('coordinate time')\n",
    "ax.set_ylabel('y')"
   ]
  },
  {
   "cell_type": "code",
   "execution_count": null,
   "id": "77b91b2e-61d4-4133-9cd0-cf00fbda1557",
   "metadata": {},
   "outputs": [],
   "source": [
    "fig, ax = plt.subplots(1,1, figsize=(18,6))\n",
    "ax.plot(ft, fy)\n",
    "ax.scatter(ft, fy)\n",
    "ax.set_xlabel('coordinate time')\n",
    "ax.set_ylabel('y')"
   ]
  },
  {
   "cell_type": "code",
   "execution_count": null,
   "id": "93c30c4c-1849-41fa-b611-eb06f6645f4f",
   "metadata": {},
   "outputs": [],
   "source": [
    "fig, ax = plt.subplots(1,1, figsize=(18,6))\n",
    "ax.plot(l, ft)\n",
    "ax.scatter(l[::2], ft[::2])\n",
    "ax.set_xlabel('affine parameter')\n",
    "ax.set_ylabel('coordinate time')"
   ]
  },
  {
   "cell_type": "code",
   "execution_count": null,
   "id": "b56fe7ef-9121-4d2b-b1f5-0701e594cc51",
   "metadata": {},
   "outputs": [],
   "source": [
    "fig, ax = plt.subplots(1,1, figsize=(18,6))\n",
    "ax.plot(abs(l), abs(ft))\n",
    "ax.scatter(abs(l[::2]), abs(ft[::2]))\n",
    "ax.set_xlabel('|affine parameter|')\n",
    "ax.set_ylabel('|coordinate time|')"
   ]
  }
 ],
 "metadata": {
  "kernelspec": {
   "display_name": "Python 3 (ipykernel)",
   "language": "python",
   "name": "python3"
  },
  "language_info": {
   "codemirror_mode": {
    "name": "ipython",
    "version": 3
   },
   "file_extension": ".py",
   "mimetype": "text/x-python",
   "name": "python",
   "nbconvert_exporter": "python",
   "pygments_lexer": "ipython3",
   "version": "3.11.8"
  }
 },
 "nbformat": 4,
 "nbformat_minor": 5
}
