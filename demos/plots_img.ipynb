{
 "cells": [
  {
   "cell_type": "code",
   "execution_count": null,
   "id": "bb030ebb-1852-4ad7-90e3-529d14660f4d",
   "metadata": {},
   "outputs": [],
   "source": [
    "from glob import glob\n",
    "\n",
    "import numpy as np\n",
    "import h5py\n",
    "\n",
    "from scipy.signal import argrelextrema\n",
    "from matplotlib   import pyplot as plt"
   ]
  },
  {
   "cell_type": "code",
   "execution_count": null,
   "id": "75568ecc-0c3c-402d-af2a-e95ea4473bc3",
   "metadata": {},
   "outputs": [],
   "source": [
    "alpha = 16*((np.arange(1024)+0.5)/1024-0.5)\n",
    "\n",
    "def da(f):\n",
    "    k  = f[:,1]\n",
    "    ki = k[-1,1:]\n",
    "    kf = k[ 0,1:]\n",
    "    \n",
    "    fi = np.einsum('ijk,ijk->jk', kf, ki)\n",
    "    ff = np.einsum('ijk,ijk->jk', kf, kf)\n",
    "    ii = np.einsum('ijk,ijk->jk', ki, ki)\n",
    "    \n",
    "    return np.arccos(fi / np.sqrt(ff * ii))\n",
    "\n",
    "def argmax(d):\n",
    "    am = argrelextrema(d, np.greater)[0]\n",
    "    am = np.array([a for a in am if max(d[a+1]-d[a], d[a]-d[a-1]) > 0.02])\n",
    "    return am\n",
    "\n",
    "def argmin(d):\n",
    "    am = argrelextrema(d, np.less)[0]\n",
    "    am = np.array([a for a in am if min(d[a+1]-d[a], d[a]-d[a-1]) <-0.02])\n",
    "    return am\n",
    "\n",
    "def unfold(d):\n",
    "#     aM = argmax(deflection)\n",
    "#     aR = np.where(deflection[aM[:len(aM)//2]] > 3)[0]\n",
    "#     if len(aR) >= 2:\n",
    "#         deflection[aM[aR[0]]+1:aM[aR[-1]]] = 2*np.pi - deflection[aM[aR[0]]+1:aM[aR[-1]]]\n",
    "\n",
    "#     aM = argmax(deflection)\n",
    "#     aR = np.where(deflection[aM[:len(aM)//2]] > 6)[0]\n",
    "#     if len(aR) >= 2:\n",
    "#         deflection[aM[aR[0]]+1:aM[aR[-1]]] = 4*np.pi - deflection[aM[aR[0]]+1:aM[aR[-1]]]\n",
    "\n",
    "#     aM = argmax(deflection)\n",
    "#     aR = np.where(deflection[aM[:len(aM)//2]] > 9)[0]\n",
    "#     if len(aR) >= 2:\n",
    "#         deflection[aM[aR[0]]+1:aM[aR[-1]]] = 6*np.pi - deflection[aM[aR[0]]+1:aM[aR[-1]]]\n",
    "\n",
    "#     aM = argmax(deflection)\n",
    "#     aR = np.where(deflection[aM[:len(aM)//2]] > 12)[0]\n",
    "#     if len(aR) >= 2:\n",
    "#         deflection[aM[aR[0]]+1:aM[aR[-1]]] = 8*np.pi - deflection[aM[aR[0]]+1:aM[aR[-1]]]\n",
    "\n",
    "#     am = argmin(deflection)    \n",
    "#     try:\n",
    "#         deflection[am[0]:am[-1]] *= -1\n",
    "#     except:\n",
    "#         pass\n",
    "    return d"
   ]
  },
  {
   "cell_type": "code",
   "execution_count": null,
   "id": "978d656c-9c32-459d-a466-1f5f92cb5a6c",
   "metadata": {},
   "outputs": [],
   "source": [
    "with h5py.File('image_a2.00_i30.h5') as h:\n",
    "    f = h['f'][:]\n",
    "\n",
    "t = f[0,0,0]\n",
    "x = f[0,0,1]\n",
    "y = f[0,0,2]\n",
    "z = f[0,0,3]\n",
    "r = np.sqrt(x*x + y*y + z*z)\n",
    "\n",
    "print(f.shape)\n",
    "print(t.shape)"
   ]
  },
  {
   "cell_type": "code",
   "execution_count": null,
   "id": "e5035e14-eeeb-415a-b302-abb090f72558",
   "metadata": {},
   "outputs": [],
   "source": [
    "print(np.nanmin(t), np.nanmax(t))\n",
    "print(np.nanmin(r), np.nanmax(r))"
   ]
  },
  {
   "cell_type": "code",
   "execution_count": null,
   "id": "72a853a7-64f4-4772-8fc1-33325fff47ae",
   "metadata": {},
   "outputs": [],
   "source": [
    "aspins = 2**np.linspace(0,3,num=13)[1:]\n",
    "\n",
    "for a in aspins:\n",
    "    for i in [0]:#range(0,91,15):\n",
    "        file = f'image_a{a:.02f}_i{i}.h5'\n",
    "        \n",
    "        try:\n",
    "            with h5py.File(file) as h:\n",
    "                f = h['f'][:]\n",
    "                print(file)        \n",
    "        except:\n",
    "            continue\n",
    "    \n",
    "        fig, ax = plt.subplots(1,1,figsize=(8,8))\n",
    "        deflection = unfold(da(f))\n",
    "        ax.imshow(\n",
    "            deflection.T, origin='lower', extent=[-8,8,-8,8], \n",
    "            vmin=0, vmax=np.pi, cmap='seismic',\n",
    "        )\n",
    "        ax.set_title(f'aspin={a:.02f}, inc={i}')\n",
    "    \n",
    "        fig.savefig(file.replace('h5', 'png'), dpi=300, bbox_inches='tight')\n",
    "        plt.close(fig)"
   ]
  },
  {
   "cell_type": "code",
   "execution_count": null,
   "id": "d9f0a794-eaf1-4f97-8810-12cf6cc88583",
   "metadata": {},
   "outputs": [],
   "source": []
  },
  {
   "cell_type": "code",
   "execution_count": null,
   "id": "5fffb420-a25a-4e86-a000-06281e10cd85",
   "metadata": {},
   "outputs": [],
   "source": []
  }
 ],
 "metadata": {
  "kernelspec": {
   "display_name": "Python 3 (ipykernel)",
   "language": "python",
   "name": "python3"
  },
  "language_info": {
   "codemirror_mode": {
    "name": "ipython",
    "version": 3
   },
   "file_extension": ".py",
   "mimetype": "text/x-python",
   "name": "python",
   "nbconvert_exporter": "python",
   "pygments_lexer": "ipython3",
   "version": "3.11.8"
  }
 },
 "nbformat": 4,
 "nbformat_minor": 5
}
